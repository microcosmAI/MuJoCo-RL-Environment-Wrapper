{
 "cells": [
  {
   "cell_type": "code",
   "execution_count": 1,
   "metadata": {},
   "outputs": [],
   "source": [
    "from MuJoCo_Gym.mujoco_rl import MuJoCo_RL\n",
    "import numpy as np\n",
    "import random"
   ]
  },
  {
   "cell_type": "code",
   "execution_count": 2,
   "metadata": {},
   "outputs": [],
   "source": [
    "class Language():\n",
    "    def __init__(self, mujoco_gym):\n",
    "        self.mujoco_gym = mujoco_gym\n",
    "        self.observation_space = {\"low\":[0], \"high\":[3]}\n",
    "        self.action_space = {\"low\":[0], \"high\":[3]}\n",
    "        # The datastore is used to store and preserve data over one or multiple timesteps\n",
    "        self.dataStore = {}\n",
    "\n",
    "    def dynamic(self, agent, actions):\n",
    "\n",
    "        # At timestep 0, the utterance field has to be initialized\n",
    "        if \"utterance\" not in self.mujoco_gym.dataStore[agent].keys():\n",
    "            self.mujoco_gym.dataStore[agent][\"utterance\"] = 0\n",
    "\n",
    "        # Extract the utterance from the agents action\n",
    "        utterance = int(actions[0])\n",
    "\n",
    "        # Store the utterance in the dataStore for the environment\n",
    "        self.mujoco_gym.dataStore[agent][\"utterance\"] = utterance\n",
    "        otherAgent = [other for other in self.mujoco_gym.agents if other!=agent][0]\n",
    "\n",
    "        # Check whether the other agent has \"spoken\" yet (not at timestep 0)\n",
    "        if \"utterance\" in self.mujoco_gym.dataStore[otherAgent]:\n",
    "            utteranceOtherAgent = self.mujoco_gym.dataStore[otherAgent][\"utterance\"]\n",
    "            return 0, np.array([utteranceOtherAgent])\n",
    "        else:\n",
    "            return 0, np.array([0])"
   ]
  },
  {
   "cell_type": "code",
   "execution_count": 3,
   "metadata": {},
   "outputs": [],
   "source": [
    "def reward_function(mujoco_gym, agent):\n",
    "    # Creates all the necessary fields to store the needed data within the dataStore at timestep 0 \n",
    "    if \"targets\" not in mujoco_gym.dataStore[agent].keys():\n",
    "        mujoco_gym.dataStore[\"targets\"] = mujoco_gym.filterByTag(\"target\")\n",
    "        mujoco_gym.dataStore[agent][\"current_target\"] = mujoco_gym.dataStore[\"targets\"][random.randint(0, len(mujoco_gym.dataStore[\"targets\"]) - 1)][\"name\"]\n",
    "        distance = mujoco_gym.distance(agent, mujoco_gym.dataStore[agent][\"current_target\"])\n",
    "        mujoco_gym.dataStore[agent][\"distance\"] = distance\n",
    "        new_reward = 0\n",
    "    else: # Calculates the distance between the agent and the current target\n",
    "        distance = mujoco_gym.distance(agent, mujoco_gym.dataStore[agent][\"current_target\"])\n",
    "        new_reward = mujoco_gym.dataStore[agent][\"distance\"] - distance\n",
    "        mujoco_gym.dataStore[agent][\"distance\"] = distance\n",
    "    reward = new_reward * 10\n",
    "    return reward"
   ]
  },
  {
   "cell_type": "code",
   "execution_count": 4,
   "metadata": {},
   "outputs": [],
   "source": [
    "def done_function(mujoco_gym, agent):\n",
    "    if mujoco_gym.dataStore[agent][\"distance\"] <= 1:\n",
    "        return True\n",
    "    else:\n",
    "        return False"
   ]
  },
  {
   "cell_type": "code",
   "execution_count": 5,
   "metadata": {},
   "outputs": [
    {
     "name": "stderr",
     "output_type": "stream",
     "text": [
      "/Users/cowolff/miniconda3/envs/mujocoTest3/lib/python3.9/site-packages/gymnasium/spaces/box.py:127: UserWarning: \u001b[33mWARN: Box bound precision lowered by casting to float32\u001b[0m\n",
      "  logger.warn(f\"Box bound precision lowered by casting to {self.dtype}\")\n"
     ]
    }
   ],
   "source": [
    "environment_path = \"Environment/MultiEnvs.xml\"\n",
    "info_path = \"Environment/info_example.json\"\n",
    "agents = [\"agent1_torso\", \"agent2_torso\", \"agent3_torso\"]\n",
    "config_dict = {\"xmlPath\":environment_path, \"infoJson\":info_path, \"agents\":agents, \"rewardFunctions\":[reward_function], \"doneFunctions\":[done_function], \"renderMode\":True}\n",
    "environment = MuJoCo_RL(config_dict)"
   ]
  },
  {
   "cell_type": "code",
   "execution_count": 6,
   "metadata": {},
   "outputs": [],
   "source": [
    "environment.reset()\n",
    "while True:\n",
    "    try:\n",
    "        # print(test_env._action_space)\n",
    "        action = {\"agent3_torso\": environment._action_space[\"agent3_torso\"].sample(), \"agent2_torso\": environment._action_space[\"agent2_torso\"].sample(), \"agent1_torso\": environment._action_space[\"agent1_torso\"].sample()}\n",
    "        action[\"agent3_torso\"][1:2] = 1\n",
    "        action[\"agent2_torso\"][1:2] = 1\n",
    "        observations, current_rewards, terminations, truncations, infos = environment.step(action)\n",
    "\n",
    "        if terminations[\"__all__\"] == True or truncations[\"__all__\"] == True:\n",
    "            environment.reset()\n",
    "    except KeyboardInterrupt:\n",
    "        break"
   ]
  }
 ],
 "metadata": {
  "kernelspec": {
   "display_name": "mujocoTest",
   "language": "python",
   "name": "python3"
  },
  "language_info": {
   "codemirror_mode": {
    "name": "ipython",
    "version": 3
   },
   "file_extension": ".py",
   "mimetype": "text/x-python",
   "name": "python",
   "nbconvert_exporter": "python",
   "pygments_lexer": "ipython3",
   "version": "3.9.16"
  },
  "orig_nbformat": 4
 },
 "nbformat": 4,
 "nbformat_minor": 2
}
